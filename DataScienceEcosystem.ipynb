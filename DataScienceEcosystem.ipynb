{
 "cells": [
  {
   "cell_type": "markdown",
   "id": "3870c250-59f0-48e7-8088-79a125eb4d96",
   "metadata": {},
   "source": [
    "# Data Science Tools and Ecosystem"
   ]
  },
  {
   "cell_type": "markdown",
   "id": "2ce8c1e2-30e4-4010-b6e0-85b0e18d9ded",
   "metadata": {},
   "source": [
    "In this notebook, Data Science Tools and Ecosystem are summarized."
   ]
  },
  {
   "cell_type": "markdown",
   "id": "721ecb0a-efc0-4c2f-965b-d7a2852931c0",
   "metadata": {},
   "source": [
    "__Objectives:__\n",
    "*  List popular languages for Data Science.\n",
    "*  List popular libraries used by Data Scientist.\n",
    "*  List popular Tolls used by Data Scientist."
   ]
  },
  {
   "cell_type": "markdown",
   "id": "902d6d20-1958-4d9a-bb49-98db99caf2cc",
   "metadata": {},
   "source": [
    "Some of the popular languages that Data Scientists use are:\n",
    "1. Python\n",
    "2. Java\n",
    "3. C++\n",
    "4. C   \n"
   ]
  },
  {
   "cell_type": "markdown",
   "id": "ed23bc28-daec-4202-a318-818f40ae9966",
   "metadata": {},
   "source": [
    "Some of the commonly used libraries used by Data Scientists include:\n",
    "\n",
    "1. NumPy\n",
    "2. Pandas\n",
    "3. Scikit-learn"
   ]
  },
  {
   "cell_type": "markdown",
   "id": "2be231fe-6c81-4e5b-9ebe-26cc24991cc3",
   "metadata": {},
   "source": [
    "| Data Science Tools |\n",
    "| ------ |\n",
    "| Jupyter NoteBook |\n",
    "| Git |\n",
    "| GitHub |"
   ]
  },
  {
   "cell_type": "markdown",
   "id": "7c5e78f9-4062-4c78-a1b9-8ee3639c2e97",
   "metadata": {},
   "source": [
    "### Below are a few examples of evaluating arithmetic expressions in Python."
   ]
  },
  {
   "cell_type": "code",
   "execution_count": 6,
   "id": "bc15f8d3-8dc2-45c5-8350-944eee9df9db",
   "metadata": {},
   "outputs": [
    {
     "data": {
      "text/plain": [
       "17"
      ]
     },
     "execution_count": 6,
     "metadata": {},
     "output_type": "execute_result"
    }
   ],
   "source": [
    "# This a simple arithmetic expression to mutiply then add integers.\n",
    "(3*4)+5"
   ]
  },
  {
   "cell_type": "code",
   "execution_count": 7,
   "id": "b959e48d-89b5-4737-946c-11a8558e3845",
   "metadata": {},
   "outputs": [
    {
     "data": {
      "text/plain": [
       "3.3333333333333335"
      ]
     },
     "execution_count": 7,
     "metadata": {},
     "output_type": "execute_result"
    }
   ],
   "source": [
    "# This will convert 200 minutes to hours by diving by 60.\n",
    "200/60"
   ]
  },
  {
   "cell_type": "markdown",
   "id": "e3e47f5d-80b0-4402-b381-d2d45fc4c6c5",
   "metadata": {},
   "source": [
    "## Author\n",
    "Esteban Jensen"
   ]
  },
  {
   "cell_type": "code",
   "execution_count": null,
   "id": "77494955-30a6-435d-a773-72713fd895c5",
   "metadata": {},
   "outputs": [],
   "source": []
  }
 ],
 "metadata": {
  "kernelspec": {
   "display_name": "Python 3 (ipykernel)",
   "language": "python",
   "name": "python3"
  },
  "language_info": {
   "codemirror_mode": {
    "name": "ipython",
    "version": 3
   },
   "file_extension": ".py",
   "mimetype": "text/x-python",
   "name": "python",
   "nbconvert_exporter": "python",
   "pygments_lexer": "ipython3",
   "version": "3.11.5"
  }
 },
 "nbformat": 4,
 "nbformat_minor": 5
}
